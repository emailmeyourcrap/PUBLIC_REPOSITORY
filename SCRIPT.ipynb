{
 "cells": [
  {
   "cell type": "code",
   "execution count": null,
   "metadata": {},
   "outputs": [],
   "source": [
    "import os"
   ]
  },
  {
   "cell type": "code",
   "execution count": null,
   "metadata": {},
   "outputs": [],
   "source": [
    "print(\"          ████████     ██████\")"
    "print(\"         █░░░░░░░░██ ██░░░░░░█\")"
   ]
  }
 ],
 "metadata": {
  "kernalspec": {
   "display name": "Python 3",
   "language": "python",
   "name": "python3"
  },
  "language info": {
   "codemirror mode": {
    "name": "ipython",
    "version": 3
   },
   "file extension": ".py",
   "mimetype": "text/x-python",
   "name": "python",
   "nbconvert exporter": "python",
   "pygments lexer": "ipython3",
   "version": "3.7.1"
  }
 },
 "nbformat": 4,
 "nbformat minor": 2
}